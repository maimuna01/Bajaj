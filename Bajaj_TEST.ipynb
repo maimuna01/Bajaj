{
  "nbformat": 4,
  "nbformat_minor": 0,
  "metadata": {
    "colab": {
      "provenance": []
    },
    "kernelspec": {
      "name": "python3",
      "display_name": "Python 3"
    },
    "language_info": {
      "name": "python"
    }
  },
  "cells": [
    {
      "cell_type": "code",
      "source": [
        "import json\n",
        "from collections import Counter\n",
        "from datetime import datetime"
      ],
      "metadata": {
        "id": "tcB6cjPKvxnK"
      },
      "execution_count": 4,
      "outputs": []
    },
    {
      "cell_type": "code",
      "execution_count": 5,
      "metadata": {
        "id": "Oxk7W27CvaVc"
      },
      "outputs": [],
      "source": [
        "file_path = '/content/DataEngineeringQ2.json'\n",
        "with open(file_path, 'r') as file:\n",
        "    data = json.load(file)\n",
        "\n",
        "def calculate_percentage(part, whole):\n",
        "    return round((part / whole) * 100, 2)\n",
        "\n",
        "patient_details = [entry['patientDetails'] for entry in data]\n",
        "medicines_data = [entry['consultationData']['medicines'] for entry in data]"
      ]
    },
    {
      "cell_type": "code",
      "source": [
        "# 1. Calculate percentage of missing values for firstName, lastName, and DOB\n",
        "total_patients = len(patient_details)\n",
        "missing_first_name = sum(1 for patient in patient_details if patient.get('firstName') in [\"\", None])\n",
        "missing_last_name = sum(1 for patient in patient_details if patient.get('lastName') in [\"\", None])\n",
        "missing_dob = sum(1 for patient in patient_details if patient.get('birthDate') in [\"\", None])\n",
        "\n",
        "percent_missing_first_name = calculate_percentage(missing_first_name, total_patients)\n",
        "percent_missing_last_name = calculate_percentage(missing_last_name, total_patients)\n",
        "percent_missing_dob = calculate_percentage(missing_dob, total_patients)\n"
      ],
      "metadata": {
        "id": "p2z0_W84vsJB"
      },
      "execution_count": 12,
      "outputs": []
    },
    {
      "cell_type": "code",
      "source": [
        "# 2. Calculate the percentage of female gender after imputation\n",
        "genders = [patient.get('gender') for patient in patient_details if patient.get('gender') not in [\"\", None]]\n",
        "mode_gender = Counter(genders).most_common(1)[0][0]\n",
        "\n",
        "# Impute missing gender values\n",
        "imputed_genders = [patient.get('gender') if patient.get('gender') not in [\"\", None] else mode_gender for patient in patient_details]\n",
        "percent_female_after_imputation = calculate_percentage(imputed_genders.count('F'), total_patients)"
      ],
      "metadata": {
        "id": "NtjGeoPvvqc3"
      },
      "execution_count": 7,
      "outputs": []
    },
    {
      "cell_type": "code",
      "source": [
        "# 3. Add a column ageGroup and count the number of Adults\n",
        "age_groups = []\n",
        "current_date = datetime.now()\n",
        "\n",
        "for patient in patient_details:\n",
        "    birth_date_str = patient.get('birthDate')\n",
        "    if birth_date_str not in [\"\", None]:\n",
        "        birth_date = datetime.strptime(birth_date_str, \"%Y-%m-%dT%H:%M:%S.%fZ\")\n",
        "        age = (current_date - birth_date).days // 365\n",
        "        if 0 <= age <= 12:\n",
        "            age_groups.append('Child')\n",
        "        elif 13 <= age <= 19:\n",
        "            age_groups.append('Teen')\n",
        "        elif 20 <= age <= 59:\n",
        "            age_groups.append('Adult')\n",
        "        else:\n",
        "            age_groups.append('Senior')\n",
        "    else:\n",
        "        age_groups.append(None)\n",
        "\n",
        "adult_count = age_groups.count('Adult')"
      ],
      "metadata": {
        "id": "BjZma7G2voM7"
      },
      "execution_count": 8,
      "outputs": []
    },
    {
      "cell_type": "code",
      "source": [
        "\n",
        "# 4. Calculate the average number of medicines prescribed\n",
        "total_medicines_prescribed = sum(len(medicines) for medicines in medicines_data)\n",
        "average_medicines_prescribed = round(total_medicines_prescribed / total_patients, 2)"
      ],
      "metadata": {
        "id": "A9qIuJBFvlaw"
      },
      "execution_count": 9,
      "outputs": []
    },
    {
      "cell_type": "code",
      "source": [
        "\n",
        "# 5. Determine the 3rd most frequently prescribed medicineName\n",
        "all_medicine_names = [medicine['medicineName'] for medicines in medicines_data for medicine in medicines]\n",
        "medicine_name_counts = Counter(all_medicine_names)\n",
        "third_most_frequent_medicine = medicine_name_counts.most_common(3)[-1][0]"
      ],
      "metadata": {
        "id": "bA_t366ivkEe"
      },
      "execution_count": 10,
      "outputs": []
    },
    {
      "cell_type": "code",
      "source": [
        "# 6. Calculate the percentage distribution of active and inactive medicines\n",
        "total_medicines = len(all_medicine_names)\n",
        "active_medicines = sum(1 for medicines in medicines_data for medicine in medicines if medicine['isActive'])\n",
        "inactive_medicines = total_medicines - active_medicines\n",
        "\n",
        "percent_active_medicines = calculate_percentage(active_medicines, total_medicines)\n",
        "percent_inactive_medicines = calculate_percentage(inactive_medicines, total_medicines)\n",
        "\n",
        "{\n",
        "    \"percent_missing_first_name\": percent_missing_first_name,\n",
        "    \"percent_missing_last_name\": percent_missing_last_name,\n",
        "    \"percent_missing_dob\": percent_missing_dob,\n",
        "    \"percent_female_after_imputation\": percent_female_after_imputation,\n",
        "    \"adult_count\": adult_count,\n",
        "    \"average_medicines_prescribed\": average_medicines_prescribed,\n",
        "    \"third_most_frequent_medicine\": third_most_frequent_medicine,\n",
        "    \"percent_active_medicines\": percent_active_medicines,\n",
        "    \"percent_inactive_medicines\": percent_inactive_medicines\n",
        "}"
      ],
      "metadata": {
        "colab": {
          "base_uri": "https://localhost:8080/"
        },
        "id": "1pO_hHOxviw0",
        "outputId": "7c0328d5-0334-490f-89f9-b74695f8e1c5"
      },
      "execution_count": 11,
      "outputs": [
        {
          "output_type": "execute_result",
          "data": {
            "text/plain": [
              "{'percent_missing_first_name': 0.0,\n",
              " 'percent_missing_last_name': 70.97,\n",
              " 'percent_missing_dob': 32.26,\n",
              " 'percent_female_after_imputation': 32.26,\n",
              " 'adult_count': 21,\n",
              " 'average_medicines_prescribed': 2.13,\n",
              " 'third_most_frequent_medicine': 'C',\n",
              " 'percent_active_medicines': 69.7,\n",
              " 'percent_inactive_medicines': 30.3}"
            ]
          },
          "metadata": {},
          "execution_count": 11
        }
      ]
    },
    {
      "cell_type": "code",
      "source": [
        "def is_valid_indian_phone_number(phone_number):\n",
        "    if phone_number.startswith('+91'):\n",
        "        phone_number = phone_number[3:]\n",
        "    elif phone_number.startswith('91'):\n",
        "        phone_number = phone_number[2:]\n",
        "\n",
        "    if len(phone_number) == 10 and phone_number.isdigit():\n",
        "        return 6000000000 <= int(phone_number) <= 9999999999\n",
        "    return False\n",
        "\n",
        "valid_phone_numbers_count = 0\n",
        "for patient in patient_details:\n",
        "    phone_number = patient.get('phoneNumber', '')\n",
        "    if is_valid_indian_phone_number(phone_number):\n",
        "        patient['isValidMobile'] = True\n",
        "        valid_phone_numbers_count += 1\n",
        "    else:\n",
        "        patient['isValidMobile'] = False\n",
        "\n",
        "valid_phone_numbers_count\n",
        "from scipy.stats import pearsonr\n",
        "\n",
        "def calculate_age(birth_date_str):\n",
        "    if birth_date_str in [\"\", None]:\n",
        "        return None\n",
        "    birth_date = datetime.strptime(birth_date_str, \"%Y-%m-%dT%H:%M:%S.%fZ\")\n",
        "    age = (current_date - birth_date).days // 365\n",
        "    return age\n",
        "\n",
        "ages = []\n",
        "num_medicines_prescribed = []\n",
        "\n",
        "for patient, medicines in zip(patient_details, medicines_data):\n",
        "    age = calculate_age(patient.get('birthDate'))\n",
        "    if age is not None:\n",
        "        ages.append(age)\n",
        "        num_medicines_prescribed.append(len(medicines))\n",
        "\n",
        "correlation, _ = pearsonr(num_medicines_prescribed, ages)\n",
        "correlation = round(correlation, 2)\n",
        "correlation"
      ],
      "metadata": {
        "colab": {
          "base_uri": "https://localhost:8080/"
        },
        "id": "OkTQ7SzvwYRg",
        "outputId": "b5913f77-2303-4b63-9b5c-bf6cc5965925"
      },
      "execution_count": 16,
      "outputs": [
        {
          "output_type": "execute_result",
          "data": {
            "text/plain": [
              "-0.22"
            ]
          },
          "metadata": {},
          "execution_count": 16
        }
      ]
    },
    {
      "cell_type": "code",
      "source": [],
      "metadata": {
        "id": "wyP-CeMuwicY"
      },
      "execution_count": null,
      "outputs": []
    },
    {
      "cell_type": "code",
      "source": [],
      "metadata": {
        "id": "FxtWEx-NwbnS"
      },
      "execution_count": null,
      "outputs": []
    }
  ]
}